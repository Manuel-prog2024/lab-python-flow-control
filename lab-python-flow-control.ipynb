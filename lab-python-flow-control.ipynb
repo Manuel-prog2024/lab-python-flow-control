{
 "cells": [
  {
   "cell_type": "markdown",
   "id": "d3bfc191-8885-42ee-b0a0-bbab867c6f9f",
   "metadata": {
    "tags": []
   },
   "source": [
    "# Lab | Flow Control"
   ]
  },
  {
   "cell_type": "markdown",
   "id": "3851fcd1-cf98-4653-9c89-e003b7ec9400",
   "metadata": {},
   "source": [
    "## Exercise: Managing Customer Orders Optimized\n",
    "\n",
    "In the last lab, you were starting an online store that sells various products. To ensure smooth operations, you developed a program that manages customer orders and inventory.\n",
    "\n",
    "You did so without using flow control. Let's go a step further and improve this code.\n",
    "\n",
    "Follow the steps below to complete the exercise:\n",
    "\n",
    "1. Look at your code from the lab data structures, and improve repeated code with loops.\n",
    "\n",
    "2. Instead of asking the user to input the name of three products that a customer wants to order, do the following:\n",
    "    \n",
    "    a. Prompt the user to enter the name of a product that a customer wants to order.\n",
    "    \n",
    "    b. Add the product name to the \"customer_orders\" set.\n",
    "    \n",
    "    c. Ask the user if they want to add another product (yes/no).\n",
    "    \n",
    "    d. Continue the loop until the user does not want to add another product.\n",
    "\n",
    "3. Instead of updating the inventory by subtracting 1 from the quantity of each product, only do it for  the products that were ordered (those in \"customer_orders\")."
   ]
  },
  {
   "cell_type": "code",
   "execution_count": 31,
   "id": "85ca867b-5c59-449a-ad84-644b53a2161f",
   "metadata": {},
   "outputs": [],
   "source": [
    "#Prompt the user to enter the name of a product that a customer wants to order.\n",
    "#Add the product name to the \"customer_orders\" set.\n",
    "#Ask the user if they want to add another product (yes or no).\n",
    "#Continue the loop until the user does not want to add another product.\n",
    "#Instead of updating the inventory by subtracting 1 from the quantity of each product, \n",
    "#only do it for the products that were ordered (those in \"customer_orders\").\n",
    "\n",
    "products=[\"t-shirt\", \"mug\", \"hat\", \"book\", \"keychain\"]#Creation of a list named products with 5 items\n",
    "inventory={}#Creation of an empty dictionary named inventory"
   ]
  },
  {
   "cell_type": "code",
   "execution_count": 33,
   "id": "fdaf323e-98a8-42e6-a87c-17311de45b8d",
   "metadata": {},
   "outputs": [
    {
     "name": "stdin",
     "output_type": "stream",
     "text": [
      "Enter the quantity of t-shirt:  1\n",
      "Enter the quantity of mug:  2\n",
      "Enter the quantity of hat:  3\n",
      "Enter the quantity of book:  4\n",
      "Enter the quantity of keychain:  5\n"
     ]
    }
   ],
   "source": [
    "#Ask the user to input the quantity of each product\n",
    "for product in products:\n",
    "    quantity = int(input(f\"Enter the quantity of {product}: \"))\n",
    "    inventory[product] = quantity"
   ]
  },
  {
   "cell_type": "code",
   "execution_count": 15,
   "id": "3e273505-a757-40af-9a6d-2f4ec5008dc3",
   "metadata": {},
   "outputs": [],
   "source": [
    "# Create an empty set for customer orders\n",
    "customer_orders = set()"
   ]
  },
  {
   "cell_type": "code",
   "execution_count": 17,
   "id": "b20a9136-212f-4bfc-b6f1-b02b55340134",
   "metadata": {},
   "outputs": [
    {
     "name": "stdin",
     "output_type": "stream",
     "text": [
      "Enter the name of a product you want to order:  mug\n",
      "Do you want to add another product? (yes/no):  yes\n",
      "Enter the name of a product you want to order:  hat\n",
      "Do you want to add another product? (yes/no):  no\n"
     ]
    }
   ],
   "source": [
    "# Prompt the user to enter the name of a product that a customer wants to order\n",
    "while True:\n",
    "    product = input(\"Enter the name of a product you want to order: \")\n",
    "    customer_orders.add(product)\n",
    "    another_product = input(\"Do you want to add another product? (yes or no): \")\n",
    "    if another_product.lower() != \"yes\":\n",
    "        break"
   ]
  },
  {
   "cell_type": "code",
   "execution_count": 19,
   "id": "552892e8-abe0-4b26-a681-16b1bdeb1c2f",
   "metadata": {},
   "outputs": [
    {
     "name": "stdout",
     "output_type": "stream",
     "text": [
      "Products in the customer_orders set:\n",
      "hat\n",
      "mug\n"
     ]
    }
   ],
   "source": [
    "# Print the products in the customer_orders set\n",
    "print(\"Products in the customer_orders set:\")\n",
    "for product in customer_orders:\n",
    "    print(product)"
   ]
  },
  {
   "cell_type": "code",
   "execution_count": 41,
   "id": "b501fff6-17ea-4f19-b154-94d667e53746",
   "metadata": {},
   "outputs": [
    {
     "name": "stdout",
     "output_type": "stream",
     "text": [
      "2\n",
      "15\n"
     ]
    },
    {
     "data": {
      "text/plain": [
       "13.333333333333334"
      ]
     },
     "execution_count": 41,
     "metadata": {},
     "output_type": "execute_result"
    }
   ],
   "source": [
    "# Calculate the order statistics\n",
    "total_products_ordered = len(customer_orders)\n",
    "total_available_products = sum(inventory.values())\n",
    "percentage_of_products_ordered = (total_products_ordered / total_available_products) * 100\n",
    "#print(total_products_ordered)\n",
    "#\"print(total_available_products)\n",
    "#percentage_of_products_ordered"
   ]
  },
  {
   "cell_type": "code",
   "execution_count": 25,
   "id": "96b06fe7-daf8-49b6-92e1-28ca3f96e761",
   "metadata": {},
   "outputs": [],
   "source": [
    "# Store the result in a tuple\n",
    "order_status = (total_products_ordered, percentage_of_products_ordered)"
   ]
  },
  {
   "cell_type": "code",
   "execution_count": 27,
   "id": "2b3c338a-242e-4632-a7ab-4029e58223fb",
   "metadata": {},
   "outputs": [
    {
     "name": "stdout",
     "output_type": "stream",
     "text": [
      "\n",
      "Order Statistics:\n",
      "Total Products Ordered: 2\n",
      "Percentage of Products Ordered: 13.333333333333334%\n"
     ]
    }
   ],
   "source": [
    "# Print the order statistics\n",
    "print(\"\\nOrder Statistics:\")\n",
    "print(f\"Total Products Ordered: {order_status[0]}\")\n",
    "print(f\"Percentage of Products Ordered: {order_status[1]}%\")"
   ]
  },
  {
   "cell_type": "code",
   "execution_count": 29,
   "id": "4cb0395e-5433-418b-b6be-adfa551cf0d2",
   "metadata": {},
   "outputs": [],
   "source": [
    "# Update the inventory for the ordered products\n",
    "for product in customer_orders:\n",
    "    if product in inventory:\n",
    "        inventory[product] -= 1\n",
    "print(inventory)"
   ]
  },
  {
   "cell_type": "code",
   "execution_count": 37,
   "id": "3f369239-75d7-4eb1-a8ef-81ad0f2cb649",
   "metadata": {},
   "outputs": [
    {
     "name": "stdout",
     "output_type": "stream",
     "text": [
      "\n",
      " Updated inventory:\n",
      "t-shirt: 1\n",
      "mug: 2\n",
      "hat: 3\n",
      "book: 4\n",
      "keychain: 5\n"
     ]
    }
   ],
   "source": [
    "print(\"\\n Updated inventory:\")#Display name and quantity for updated inventory\n",
    "for product, quantity in inventory.items():\n",
    "    print(f\"{product}: {quantity}\")\n"
   ]
  },
  {
   "cell_type": "code",
   "execution_count": null,
   "id": "1bb2d33f-fdf9-4e09-95a7-3968a0c1a18c",
   "metadata": {},
   "outputs": [],
   "source": []
  }
 ],
 "metadata": {
  "kernelspec": {
   "display_name": "Python 3 (ipykernel)",
   "language": "python",
   "name": "python3"
  },
  "language_info": {
   "codemirror_mode": {
    "name": "ipython",
    "version": 3
   },
   "file_extension": ".py",
   "mimetype": "text/x-python",
   "name": "python",
   "nbconvert_exporter": "python",
   "pygments_lexer": "ipython3",
   "version": "3.11.7"
  }
 },
 "nbformat": 4,
 "nbformat_minor": 5
}
